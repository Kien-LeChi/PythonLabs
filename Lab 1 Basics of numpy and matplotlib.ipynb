{
 "cells": [
  {
   "cell_type": "code",
   "execution_count": 2,
   "id": "d69b8333-d5df-4c8a-a252-b4b958a62c37",
   "metadata": {
    "ExecuteTime": {
     "end_time": "2024-09-26T11:38:31.424058Z",
     "start_time": "2024-09-26T11:38:31.418541Z"
    }
   },
   "outputs": [],
   "source": [
    "name = \"\" # Write your name between parenthesis\n",
    "student_id = 12345678 # Change your student ID here\n",
    "date_returned = \"\" # Write the date returned between the parenthesis"
   ]
  },
  {
   "cell_type": "markdown",
   "id": "cef4f31e-3d0f-4f36-ad70-a24afc359d21",
   "metadata": {},
   "source": [
    "# Lab 1\n",
    "**Graphical representation of functions**<br>\n",
    "Software 1 course - Mathematics<br>\n",
    "Information and Communication Technology<br>\n",
    "Metropolia University of Applied Sciences\n",
    "\n",
    "## Instructions\n",
    "\n",
    "The aim of these first Python exercises is to get familiar with the basics of the numerical python and matplotlib graphics libraries.\n",
    "\n",
    "The problems are designed to be solved in order. The next problem is build on the topics learnt in the previous problems.\n",
    "\n",
    "Most important official documents to review:\n",
    "- [Numpy array creation](https://numpy.org/doc/1.23/user/basics.creation.html)\n",
    "- [A simple example of matplotlib](https://matplotlib.org/stable/tutorials/introductory/usage.html#a-simple-example)\n",
    "- [Intro to pyplot](https://matplotlib.org/stable/tutorials/introductory/pyplot.html#sphx-glr-tutorials-introductory-pyplot-py)\n",
    "- [Basic usage of matplotlib](https://matplotlib.org/stable/tutorials/introductory/usage.html#sphx-glr-tutorials-introductory-usage-py)\n",
    "\n",
    "You can use [Moodle Quiz Lab 1](https://moodle.metropolia.fi/course/view.php?id=1960) to automatically check and verify your answers.\n"
   ]
  },
  {
   "cell_type": "markdown",
   "id": "e4f12ef7-db3f-4e97-870d-94e9bc573e91",
   "metadata": {},
   "source": [
    "## Setup\n",
    "\n",
    "Read necessary libraries. Notice that you need to import these libraries only once in the Notebook environment."
   ]
  },
  {
   "cell_type": "code",
   "id": "438caee2-75aa-4261-803c-3556adef1617",
   "metadata": {
    "ExecuteTime": {
     "end_time": "2024-09-26T11:52:29.456780Z",
     "start_time": "2024-09-26T11:52:29.453118Z"
    }
   },
   "source": [
    "import numpy as np\n",
    "import matplotlib.pyplot as plt"
   ],
   "outputs": [],
   "execution_count": 33
  },
  {
   "cell_type": "markdown",
   "id": "7c16952b-6bcc-4345-ad2f-7244792dfd17",
   "metadata": {},
   "source": [
    "## Problem 1\n",
    "\n",
    "Create a numerical array $x$ from 10 to 20 with step size of 1. "
   ]
  },
  {
   "metadata": {
    "ExecuteTime": {
     "end_time": "2024-09-26T11:49:59.934952Z",
     "start_time": "2024-09-26T11:49:59.930404Z"
    }
   },
   "cell_type": "code",
   "source": [
    "x = np.arange(10, 21)\n",
    "print(x)"
   ],
   "id": "54e9cc4c-c8ad-4721-ac85-7c99d48a80bc",
   "outputs": [
    {
     "name": "stdout",
     "output_type": "stream",
     "text": [
      "[10 11 12 13 14 15 16 17 18 19 20]\n"
     ]
    }
   ],
   "execution_count": 25
  },
  {
   "cell_type": "markdown",
   "id": "e26be50c-c8c9-44bc-b3b1-d921cfdb1b80",
   "metadata": {},
   "source": [
    "## Problem 2\n",
    "Create a numerical array $x$ from -5 to 5 with step size of 0.5."
   ]
  },
  {
   "cell_type": "code",
   "id": "31ca2a33-42d5-49c6-b8c7-ed6fbc700df6",
   "metadata": {
    "ExecuteTime": {
     "end_time": "2024-09-26T11:50:45.518902Z",
     "start_time": "2024-09-26T11:50:45.512119Z"
    }
   },
   "source": [
    "x = np.arange(-5, 5.5, 0.5)\n",
    "x"
   ],
   "outputs": [
    {
     "data": {
      "text/plain": [
       "array([-5. , -4.5, -4. , -3.5, -3. , -2.5, -2. , -1.5, -1. , -0.5,  0. ,\n",
       "        0.5,  1. ,  1.5,  2. ,  2.5,  3. ,  3.5,  4. ,  4.5,  5. ])"
      ]
     },
     "execution_count": 30,
     "metadata": {},
     "output_type": "execute_result"
    }
   ],
   "execution_count": 30
  },
  {
   "cell_type": "markdown",
   "id": "dc22a262-dfb1-4bed-9902-0ae0b53a1b5f",
   "metadata": {},
   "source": [
    "## Problem 3\n",
    "Use the numerical array $x$ from -5 to 5 with step size of 0.5 to calculate $y = x^2$."
   ]
  },
  {
   "cell_type": "code",
   "id": "3322b059-3ace-49c4-9af3-926712ecd0ed",
   "metadata": {
    "ExecuteTime": {
     "end_time": "2024-09-26T11:51:25.390215Z",
     "start_time": "2024-09-26T11:51:25.382842Z"
    }
   },
   "source": [
    "x = np.arange(-5, 5.5, .5)\n",
    "y = x**2\n",
    "y"
   ],
   "outputs": [
    {
     "data": {
      "text/plain": [
       "array([25.  , 20.25, 16.  , 12.25,  9.  ,  6.25,  4.  ,  2.25,  1.  ,\n",
       "        0.25,  0.  ,  0.25,  1.  ,  2.25,  4.  ,  6.25,  9.  , 12.25,\n",
       "       16.  , 20.25, 25.  ])"
      ]
     },
     "execution_count": 31,
     "metadata": {},
     "output_type": "execute_result"
    }
   ],
   "execution_count": 31
  },
  {
   "cell_type": "markdown",
   "id": "57a50006-3c75-4437-94a0-b74dd4dd97a7",
   "metadata": {},
   "source": [
    "## Problem 4\n",
    "\n",
    "Create a numerical array x from -100 to 100 with step size of 0.01. \n",
    "Then calculate $y = x^2 + x - 11$. \n"
   ]
  },
  {
   "cell_type": "code",
   "id": "dc81b68c-292f-474e-881a-8804767bc606",
   "metadata": {
    "ExecuteTime": {
     "end_time": "2024-09-26T11:51:44.500682Z",
     "start_time": "2024-09-26T11:51:44.492645Z"
    }
   },
   "source": [
    "x = np.arange(-100, 100, 0.01)\n",
    "y = x**2+x-11\n",
    "y\n"
   ],
   "outputs": [
    {
     "data": {
      "text/plain": [
       "array([ 9889.        ,  9887.0101    ,  9885.0204    , ...,\n",
       "       10082.97090002, 10084.98040002, 10086.99010002])"
      ]
     },
     "execution_count": 32,
     "metadata": {},
     "output_type": "execute_result"
    }
   ],
   "execution_count": 32
  },
  {
   "cell_type": "markdown",
   "id": "e71e4ed5-9b63-4004-ab1f-0eaca6541f73",
   "metadata": {},
   "source": [
    "## Problem 5\n",
    "\n",
    "Make a graph of the function $ y = x^2 + x - 11 $ in range $x \\in [-100, 100]$ with step size of $0.01$. \n",
    "\n",
    "Tip: First use the same code as in previous problem to create and calculate x and y.\n"
   ]
  },
  {
   "cell_type": "code",
   "id": "402458b4-fbee-4b51-a9af-91194e0c7dee",
   "metadata": {
    "ExecuteTime": {
     "end_time": "2024-09-26T11:56:25.505659Z",
     "start_time": "2024-09-26T11:56:25.416634Z"
    }
   },
   "source": [
    "x = np.arange(-100, 100, 0.01)\n",
    "y = x**2 - x + 11\n",
    "\n",
    "plt.figure(figsize = (3, 2))\n",
    "plt.plot(x, y)\n",
    "plt.xlabel('x')\n",
    "plt.ylabel('y')\n",
    "plt.show()\n",
    "\n",
    "\n",
    "# Graphics commands here\n"
   ],
   "outputs": [
    {
     "data": {
      "text/plain": [
       "<Figure size 300x200 with 1 Axes>"
      ],
      "image/png": "[encoded data removed]"
     },
     "metadata": {},
     "output_type": "display_data"
    }
   ],
   "execution_count": 36
  },
  {
   "metadata": {},
   "cell_type": "markdown",
   "source": [
    "## Problem 6\n",
    "\n",
    "Make a graph of the function $y = x^2 + x - 11$ in range $x \\in[-100, 100]$ with step size of $0.01$ (as in previous problem). \n",
    "\n",
    "- Limit the display for x-values between -25 and 25. \n",
    "- Limit the display for the y-values between -100 and 600.\n",
    "- Add gridlines to the graph."
   ],
   "id": "c172d58f-ba4f-4c5a-a48f-76c7b4ccbf55"
  },
  {
   "metadata": {
    "ExecuteTime": {
     "end_time": "2024-09-26T12:01:09.943533Z",
     "start_time": "2024-09-26T12:01:09.852139Z"
    }
   },
   "cell_type": "code",
   "source": [
    "x = np.arange(-100, 100, 0.01)\n",
    "y = x**2 - x + 11\n",
    "\n",
    "plt.figure(figsize = (3, 2))\n",
    "plt.plot(x, y)\n",
    "plt.xlim(-25, 25)\n",
    "plt.ylim(-100, 600)\n",
    "plt.xlabel('x')\n",
    "plt.ylabel('y')\n",
    "plt.show()\n",
    "\n",
    "\n",
    "# Graphics commands here\n"
   ],
   "id": "2aa2308a-9794-45c5-bff5-5578ff6213c3",
   "outputs": [
    {
     "data": {
      "text/plain": [
       "<Figure size 300x200 with 1 Axes>"
      ],
      "image/png": "[encoded data removed]"
     },
     "metadata": {},
     "output_type": "display_data"
    }
   ],
   "execution_count": 39
  },
  {
   "metadata": {},
   "cell_type": "markdown",
   "source": [
    "## Problem 7\n",
    "\n",
    "In this problem, the aim is to [*graphically* solve the problem $y(x) = 0$](https://www.youtube.com/watch?v=9xRkoYbXOaU). You can do that by iteratively zooming in to the plot and changing the x- and y-axis limits. At the end, you should be able to read the value for $x2$ from the graph.\n",
    "\n",
    "The polynomial $y = x^2 + x - 11$ have two roots, meaning $y = 0$, when $x = x1$ or $x = x2$. \n",
    "- First, make a graph of the function $y = x^2 + x - 11$ in range $x \\in[-100, 100]$ with step size of $0.01$ (as in previous problem). \n",
    "- Then change the x-axis and y-axis limits so that you can read the value of x, when $y(x) = 0$. We are interested in to find the second root of the function (e.g. $x^2 + x - 11 = 0$ and $x>0$).\n",
    "\n",
    "Finally\n",
    "- Set the x-axis limits so that the root is about in the center of the graph.\n",
    " - The width (e.g. the difference between the lower limit and higher limit) of the x-axis should be 0.30.\n",
    "- Set the y-axis limits between -1 and 1.\n",
    "- Read the value of the second root from the graph. \n",
    "- Write the value for variable $x2$ with two decimal accuracy (for example x2 = 1.23)."
   ],
   "id": "caf10c9f-ede5-4954-be5b-75913f955a10"
  },
  {
   "metadata": {
    "tags": [],
    "ExecuteTime": {
     "end_time": "2024-09-26T12:06:49.811406Z",
     "start_time": "2024-09-26T12:06:49.570078Z"
    }
   },
   "cell_type": "code",
   "source": [
    "x = np.arange(-100, 100, 0.01)\n",
    "y = x**2 + x - 11\n",
    "\n",
    "x2 = np.arange(-100, 100, 0.01)\n",
    "y2 = np.zeros(20000)\n",
    "\n",
    "fig, ax = plt.subplots(figsize = (5, 5), constrained_layout = True)\n",
    "ax.plot(x2, y2)\n",
    "ax.plot(x, y)\n",
    "fig.ylim(-20, 20)\n",
    "fig.xlim(0, 100)\n"
   ],
   "id": "c63234f9-26f3-4b53-8893-64f9d60b0db9",
   "outputs": [
    {
     "ename": "AttributeError",
     "evalue": "'Figure' object has no attribute 'ylim'",
     "output_type": "error",
     "traceback": [
      "\u001B[1;31m---------------------------------------------------------------------------\u001B[0m",
      "\u001B[1;31mAttributeError\u001B[0m                            Traceback (most recent call last)",
      "Cell \u001B[1;32mIn[46], line 10\u001B[0m\n\u001B[0;32m      8\u001B[0m ax\u001B[38;5;241m.\u001B[39mplot(x2, y2)\n\u001B[0;32m      9\u001B[0m ax\u001B[38;5;241m.\u001B[39mplot(x, y)\n\u001B[1;32m---> 10\u001B[0m fig\u001B[38;5;241m.\u001B[39mylim(\u001B[38;5;241m-\u001B[39m\u001B[38;5;241m20\u001B[39m, \u001B[38;5;241m20\u001B[39m)\n\u001B[0;32m     11\u001B[0m fig\u001B[38;5;241m.\u001B[39mxlim(\u001B[38;5;241m0\u001B[39m, \u001B[38;5;241m100\u001B[39m)\n",
      "\u001B[1;31mAttributeError\u001B[0m: 'Figure' object has no attribute 'ylim'"
     ]
    },
    {
     "data": {
      "text/plain": [
       "<Figure size 500x500 with 1 Axes>"
      ],
      "image/png": "[encoded data removed]"
     },
     "metadata": {},
     "output_type": "display_data"
    }
   ],
   "execution_count": 46
  }
 ],
 "metadata": {
  "kernelspec": {
   "display_name": "Python 3 (ipykernel)",
   "language": "python",
   "name": "python3"
  },
  "language_info": {
   "codemirror_mode": {
    "name": "ipython",
    "version": 3
   },
   "file_extension": ".py",
   "mimetype": "text/x-python",
   "name": "python",
   "nbconvert_exporter": "python",
   "pygments_lexer": "ipython3",
   "version": "3.9.18"
  },
  "vscode": {
   "interpreter": {
    "hash": "4ab010436571c9b1f0b91718080c8b1983e9f6449abd83843ec7607c95fc3f4d"
   }
  }
 },
 "nbformat": 4,
 "nbformat_minor": 5
}
